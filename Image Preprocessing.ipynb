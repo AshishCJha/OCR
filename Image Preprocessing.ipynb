{
 "cells": [
  {
   "cell_type": "code",
   "execution_count": 1,
   "id": "5f93788c",
   "metadata": {},
   "outputs": [
    {
     "name": "stdout",
     "output_type": "stream",
     "text": [
      "Requirement already satisfied: opencv-python in /opt/anaconda3/lib/python3.8/site-packages (4.5.3.56)\n",
      "Requirement already satisfied: numpy>=1.17.3 in /opt/anaconda3/lib/python3.8/site-packages (from opencv-python) (1.19.5)\n",
      "Note: you may need to restart the kernel to use updated packages.\n"
     ]
    }
   ],
   "source": [
    "pip install opencv-python"
   ]
  },
  {
   "cell_type": "code",
   "execution_count": 1,
   "id": "a5690970",
   "metadata": {},
   "outputs": [],
   "source": [
    "import cv2"
   ]
  },
  {
   "cell_type": "markdown",
   "id": "148c3d36",
   "metadata": {},
   "source": [
    "# Color to Black and White image"
   ]
  },
  {
   "cell_type": "code",
   "execution_count": 4,
   "id": "24331a3a",
   "metadata": {},
   "outputs": [],
   "source": [
    "img = cv2.imread('child.jpg')"
   ]
  },
  {
   "cell_type": "code",
   "execution_count": 6,
   "id": "43d2dd21",
   "metadata": {},
   "outputs": [
    {
     "data": {
      "text/plain": [
       "27"
      ]
     },
     "execution_count": 6,
     "metadata": {},
     "output_type": "execute_result"
    }
   ],
   "source": [
    "#to show the image\n",
    "cv2.imshow('img',img)\n",
    "cv2.waitKey(0)"
   ]
  },
  {
   "cell_type": "code",
   "execution_count": 8,
   "id": "b849cc57",
   "metadata": {},
   "outputs": [],
   "source": [
    "# to convert color to black and white\n",
    "out = cv2.cvtColor(img, cv2.COLOR_BGR2GRAY)"
   ]
  },
  {
   "cell_type": "code",
   "execution_count": 9,
   "id": "bbe8ef33",
   "metadata": {},
   "outputs": [],
   "source": [
    "# TO SHOW THE converted image"
   ]
  },
  {
   "cell_type": "code",
   "execution_count": 10,
   "id": "5f8b8492",
   "metadata": {},
   "outputs": [
    {
     "data": {
      "text/plain": [
       "99"
      ]
     },
     "execution_count": 10,
     "metadata": {},
     "output_type": "execute_result"
    }
   ],
   "source": [
    "cv2.imshow(\"out\",out)\n",
    "cv2.waitKey(0)"
   ]
  },
  {
   "cell_type": "markdown",
   "id": "3361f282",
   "metadata": {},
   "source": [
    "# Resizing the image"
   ]
  },
  {
   "cell_type": "code",
   "execution_count": 11,
   "id": "d5a1b2e4",
   "metadata": {},
   "outputs": [],
   "source": [
    "img = cv2.imread('man.png')"
   ]
  },
  {
   "cell_type": "code",
   "execution_count": 12,
   "id": "e2a7c85a",
   "metadata": {},
   "outputs": [
    {
     "data": {
      "text/plain": [
       "(387, 298, 3)"
      ]
     },
     "execution_count": 12,
     "metadata": {},
     "output_type": "execute_result"
    }
   ],
   "source": [
    "img.shape"
   ]
  },
  {
   "cell_type": "code",
   "execution_count": 15,
   "id": "704da6df",
   "metadata": {},
   "outputs": [],
   "source": [
    "#Using dsize\n",
    "out = cv2.resize(img,(600,600))"
   ]
  },
  {
   "cell_type": "code",
   "execution_count": 16,
   "id": "c1f2a751",
   "metadata": {},
   "outputs": [
    {
     "data": {
      "text/plain": [
       "(600, 600, 3)"
      ]
     },
     "execution_count": 16,
     "metadata": {},
     "output_type": "execute_result"
    }
   ],
   "source": [
    "out.shape"
   ]
  },
  {
   "cell_type": "code",
   "execution_count": 18,
   "id": "e7349757",
   "metadata": {},
   "outputs": [],
   "source": [
    "#Using fx and fy"
   ]
  },
  {
   "cell_type": "code",
   "execution_count": 20,
   "id": "6621a053",
   "metadata": {},
   "outputs": [],
   "source": [
    "out1 = cv2.resize(img,None,fx=2,fy=2)"
   ]
  },
  {
   "cell_type": "code",
   "execution_count": 22,
   "id": "0b035d63",
   "metadata": {},
   "outputs": [
    {
     "data": {
      "text/plain": [
       "(774, 596, 3)"
      ]
     },
     "execution_count": 22,
     "metadata": {},
     "output_type": "execute_result"
    }
   ],
   "source": [
    "out1.shape"
   ]
  },
  {
   "cell_type": "markdown",
   "id": "330849a0",
   "metadata": {},
   "source": [
    "# Noise Removal"
   ]
  },
  {
   "cell_type": "raw",
   "id": "456b9b8f",
   "metadata": {},
   "source": [
    "Salt and Pepper Removal Technique :- Median filtering\n",
    "Gaussian Noise Removal Technique :- Gaussian Blurring"
   ]
  },
  {
   "cell_type": "code",
   "execution_count": 2,
   "id": "50e8e36b",
   "metadata": {},
   "outputs": [],
   "source": [
    "# salt-and-pepper-noise\n",
    "img = cv2.imread('salt-and-pepper-noise.png')"
   ]
  },
  {
   "cell_type": "code",
   "execution_count": 3,
   "id": "65a5c535",
   "metadata": {},
   "outputs": [
    {
     "data": {
      "text/plain": [
       "113"
      ]
     },
     "execution_count": 3,
     "metadata": {},
     "output_type": "execute_result"
    }
   ],
   "source": [
    "cv2.imshow('img',img)\n",
    "cv2.waitKey(0)"
   ]
  },
  {
   "cell_type": "code",
   "execution_count": 4,
   "id": "231884d8",
   "metadata": {},
   "outputs": [],
   "source": [
    "out = cv2.medianBlur(img,5) #5 is the kernal size "
   ]
  },
  {
   "cell_type": "markdown",
   "id": "b54de8ec",
   "metadata": {},
   "source": [
    "# Skew Correction"
   ]
  },
  {
   "cell_type": "code",
   "execution_count": 2,
   "id": "9b148769",
   "metadata": {},
   "outputs": [],
   "source": [
    "img = cv2.imread('skew.png')"
   ]
  },
  {
   "cell_type": "code",
   "execution_count": 3,
   "id": "64fbcba3",
   "metadata": {},
   "outputs": [
    {
     "data": {
      "text/plain": [
       "113"
      ]
     },
     "execution_count": 3,
     "metadata": {},
     "output_type": "execute_result"
    }
   ],
   "source": [
    "cv2.imshow('img',img)\n",
    "cv2.waitKey(0)"
   ]
  },
  {
   "cell_type": "code",
   "execution_count": 9,
   "id": "12d5ce80",
   "metadata": {
    "scrolled": true
   },
   "outputs": [],
   "source": [
    "# Detect the box\n",
    "gray = cv2.cvtColor(img, cv2.COLOR_BGR2GRAY)\n",
    "ret, thresh = cv2.threshold(gray,0,255,cv2.THRESH_BINARY_INV + cv2.THRESH_OTSU)\n",
    "contours, _ = cv2.findContours(thresh, cv2.RETR_LIST,cv2.CHAIN_APPROX_SIMPLE)"
   ]
  },
  {
   "cell_type": "code",
   "execution_count": 10,
   "id": "65939356",
   "metadata": {},
   "outputs": [],
   "source": [
    "contours = sorted(contours, key = cv2.contourArea, reverse = True)\n",
    "max_cnt = contours[0]"
   ]
  },
  {
   "cell_type": "code",
   "execution_count": 12,
   "id": "8fd6f3d6",
   "metadata": {},
   "outputs": [],
   "source": [
    "# Find the skew angle\n",
    "angle = cv2.minAreaRect(max_cnt)[-1]\n",
    "if angle < -45:\n",
    "    angle = 90 + angle"
   ]
  },
  {
   "cell_type": "code",
   "execution_count": 13,
   "id": "d147567b",
   "metadata": {},
   "outputs": [
    {
     "data": {
      "text/plain": [
       "90.0"
      ]
     },
     "execution_count": 13,
     "metadata": {},
     "output_type": "execute_result"
    }
   ],
   "source": [
    "angle"
   ]
  },
  {
   "cell_type": "code",
   "execution_count": 15,
   "id": "65730937",
   "metadata": {
    "scrolled": true
   },
   "outputs": [],
   "source": [
    "# Re-rotatation of image\n",
    "height, width, _ =img.shape\n",
    "center = (width//2, height//2)\n",
    "\n",
    "M = cv2.getRotationMatrix2D(center, angle,1)\n",
    "dst = cv2.warpAffine(img, M, (width,height),flags = cv2.INTER_LINEAR,borderMode = cv2.BORDER_REPLICATE)"
   ]
  },
  {
   "cell_type": "code",
   "execution_count": 16,
   "id": "e381c340",
   "metadata": {},
   "outputs": [
    {
     "data": {
      "text/plain": [
       "113"
      ]
     },
     "execution_count": 16,
     "metadata": {},
     "output_type": "execute_result"
    }
   ],
   "source": [
    "cv2.imshow('img',img)\n",
    "cv2.waitKey(0)"
   ]
  },
  {
   "cell_type": "code",
   "execution_count": null,
   "id": "b43bf8dc",
   "metadata": {},
   "outputs": [],
   "source": []
  }
 ],
 "metadata": {
  "kernelspec": {
   "display_name": "Python 3",
   "language": "python",
   "name": "python3"
  },
  "language_info": {
   "codemirror_mode": {
    "name": "ipython",
    "version": 3
   },
   "file_extension": ".py",
   "mimetype": "text/x-python",
   "name": "python",
   "nbconvert_exporter": "python",
   "pygments_lexer": "ipython3",
   "version": "3.8.8"
  }
 },
 "nbformat": 4,
 "nbformat_minor": 5
}
